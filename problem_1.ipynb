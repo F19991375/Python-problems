{
  "nbformat": 4,
  "nbformat_minor": 0,
  "metadata": {
    "colab": {
      "provenance": [],
      "authorship_tag": "ABX9TyP5LZQns5l/EJb7lPshdoLy",
      "include_colab_link": true
    },
    "kernelspec": {
      "name": "python3",
      "display_name": "Python 3"
    },
    "language_info": {
      "name": "python"
    }
  },
  "cells": [
    {
      "cell_type": "markdown",
      "metadata": {
        "id": "view-in-github",
        "colab_type": "text"
      },
      "source": [
        "<a href=\"https://colab.research.google.com/github/F19991375/Python-problems/blob/main/problem_1.ipynb\" target=\"_parent\"><img src=\"https://colab.research.google.com/assets/colab-badge.svg\" alt=\"Open In Colab\"/></a>"
      ]
    },
    {
      "cell_type": "code",
      "source": [
        "lst = [0, 1, 0, 0, 2, 3, 6, 0, 0, 7, 6, 4, 0, 6]\n",
        "#A list of integers lies in memory, with some of its elements set to 0.\n",
        "#Now, we aim to craft a 🤖 professional-grade program that intelligently fills these zeroed cells with the first subsequent non-zero integer in the list"
      ],
      "metadata": {
        "id": "Vcg8bEsdQ51Z"
      },
      "execution_count": 8,
      "outputs": []
    },
    {
      "cell_type": "code",
      "source": [
        "last = lst[-1]\n",
        "for i in range(len(lst)-1, -1, -1):\n",
        "  if lst[i] == 0:\n",
        "    lst[i] = last\n",
        "  else:\n",
        "    last = lst[i]"
      ],
      "metadata": {
        "id": "AFdOY3h_RKnT"
      },
      "execution_count": 9,
      "outputs": []
    },
    {
      "cell_type": "code",
      "source": [
        "print(lst)"
      ],
      "metadata": {
        "colab": {
          "base_uri": "https://localhost:8080/"
        },
        "id": "71BGmJ1uRiY6",
        "outputId": "2c6c2063-3b81-46f5-9c47-7cc5af0577c2"
      },
      "execution_count": 10,
      "outputs": [
        {
          "output_type": "stream",
          "name": "stdout",
          "text": [
            "[1, 1, 2, 2, 2, 3, 6, 7, 7, 7, 6, 4, 6, 6]\n"
          ]
        }
      ]
    }
  ]
}