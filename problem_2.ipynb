{
  "nbformat": 4,
  "nbformat_minor": 0,
  "metadata": {
    "colab": {
      "provenance": [],
      "authorship_tag": "ABX9TyMtQMqpiYViF7Ys8hlUjv9E",
      "include_colab_link": true
    },
    "kernelspec": {
      "name": "python3",
      "display_name": "Python 3"
    },
    "language_info": {
      "name": "python"
    }
  },
  "cells": [
    {
      "cell_type": "markdown",
      "metadata": {
        "id": "view-in-github",
        "colab_type": "text"
      },
      "source": [
        "<a href=\"https://colab.research.google.com/github/F19991375/Python-problems/blob/main/problem_2.ipynb\" target=\"_parent\"><img src=\"https://colab.research.google.com/assets/colab-badge.svg\" alt=\"Open In Colab\"/></a>"
      ]
    },
    {
      "cell_type": "code",
      "execution_count": 1,
      "metadata": {
        "colab": {
          "base_uri": "https://localhost:8080/"
        },
        "id": "WpwozCWd-2i3",
        "outputId": "8c8e07a2-2557-49e2-da04-49b521d7c96a"
      },
      "outputs": [
        {
          "output_type": "stream",
          "name": "stdout",
          "text": [
            "[7, 6, 5, 4, 3, 2, 1]\n"
          ]
        }
      ],
      "source": [
        "#Can you reverse a list of integers with just one traversal, and without the use\\\n",
        "#of an auxiliary list?\n",
        "lst = [1, 2, 3, 4, 5, 6, 7]\n",
        "i = 0\n",
        "j = len(lst) - 1\n",
        "while i < j:\n",
        "  lst[i], lst[j] = lst[j], lst[i]\n",
        "  i += 1\n",
        "  j -= 1\n",
        "print(lst)"
      ]
    }
  ]
}