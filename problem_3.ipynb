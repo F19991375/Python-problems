{
  "nbformat": 4,
  "nbformat_minor": 0,
  "metadata": {
    "colab": {
      "provenance": [],
      "authorship_tag": "ABX9TyNmgvMTxXtGVFaW4/z0cHu5",
      "include_colab_link": true
    },
    "kernelspec": {
      "name": "python3",
      "display_name": "Python 3"
    },
    "language_info": {
      "name": "python"
    }
  },
  "cells": [
    {
      "cell_type": "markdown",
      "metadata": {
        "id": "view-in-github",
        "colab_type": "text"
      },
      "source": [
        "<a href=\"https://colab.research.google.com/github/F19991375/Python-problems/blob/main/problem_3.ipynb\" target=\"_parent\"><img src=\"https://colab.research.google.com/assets/colab-badge.svg\" alt=\"Open In Colab\"/></a>"
      ]
    },
    {
      "cell_type": "code",
      "execution_count": 2,
      "metadata": {
        "colab": {
          "base_uri": "https://localhost:8080/"
        },
        "id": "WpwozCWd-2i3",
        "outputId": "fbab3020-29ef-4218-fa99-420c5c9b8ba8"
      },
      "outputs": [
        {
          "output_type": "stream",
          "name": "stdout",
          "text": [
            "[27, 26, 25, 24, 23, 22, 21]\n"
          ]
        }
      ],
      "source": [
        "#write a program so that the i-th element in the list is the sum of all other elements except itself\n",
        "lst = [1, 2, 3, 4, 5, 6, 7]\n",
        "_lst = []\n",
        "_sum = 0\n",
        "for i in lst:\n",
        "  _sum += i\n",
        "for i in range(len(lst)):\n",
        "  _lst.append(_sum-lst[i])\n",
        "print(_lst)"
      ]
    }
  ]
}