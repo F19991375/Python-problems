{
  "nbformat": 4,
  "nbformat_minor": 0,
  "metadata": {
    "colab": {
      "provenance": [],
      "authorship_tag": "ABX9TyNYiPmKLzFqoctr/Y40aDCp",
      "include_colab_link": true
    },
    "kernelspec": {
      "name": "python3",
      "display_name": "Python 3"
    },
    "language_info": {
      "name": "python"
    }
  },
  "cells": [
    {
      "cell_type": "markdown",
      "metadata": {
        "id": "view-in-github",
        "colab_type": "text"
      },
      "source": [
        "<a href=\"https://colab.research.google.com/github/F19991375/Python-problems/blob/main/problem_4.ipynb\" target=\"_parent\"><img src=\"https://colab.research.google.com/assets/colab-badge.svg\" alt=\"Open In Colab\"/></a>"
      ]
    },
    {
      "cell_type": "code",
      "execution_count": 3,
      "metadata": {
        "colab": {
          "base_uri": "https://localhost:8080/"
        },
        "id": "ha6TjoOroBSk",
        "outputId": "c63b5224-6654-4489-b663-053e737d7c2f"
      },
      "outputs": [
        {
          "output_type": "stream",
          "name": "stdout",
          "text": [
            "1 2 5 7 8 "
          ]
        }
      ],
      "source": [
        "#Write a simple Python program that prints numbers repeated at least twice from a list\n",
        "lst = [1, 2, 3, 4, 5, 6, 7, 8, 9, 0, 1, 2, 5, 7, 8]\n",
        "_dict = {}\n",
        "for i in lst:\n",
        "  if i not in _dict:\n",
        "    _dict[i] = 1\n",
        "  else:\n",
        "    _dict[i] += 1\n",
        "for key in _dict:\n",
        "  if _dict[key] > 1:\n",
        "    print(key, end = ' ')"
      ]
    }
  ]
}