{
  "nbformat": 4,
  "nbformat_minor": 0,
  "metadata": {
    "colab": {
      "provenance": [],
      "authorship_tag": "ABX9TyMrQh+taNND0ytjU9ggQJEd",
      "include_colab_link": true
    },
    "kernelspec": {
      "name": "python3",
      "display_name": "Python 3"
    },
    "language_info": {
      "name": "python"
    }
  },
  "cells": [
    {
      "cell_type": "markdown",
      "metadata": {
        "id": "view-in-github",
        "colab_type": "text"
      },
      "source": [
        "<a href=\"https://colab.research.google.com/github/F19991375/Python-problems/blob/main/problem_6.ipynb\" target=\"_parent\"><img src=\"https://colab.research.google.com/assets/colab-badge.svg\" alt=\"Open In Colab\"/></a>"
      ]
    },
    {
      "cell_type": "code",
      "execution_count": 4,
      "metadata": {
        "colab": {
          "base_uri": "https://localhost:8080/"
        },
        "id": "gsmNjcGZEpsX",
        "outputId": "53553c1e-fdcc-42a5-aea4-cf33ef13ee5e"
      },
      "outputs": [
        {
          "output_type": "stream",
          "name": "stdout",
          "text": [
            "[1, 2, 3, 4, 4, 5, 7]\n"
          ]
        }
      ],
      "source": [
        "#Write a Python program that takes two sorted lists, combines them into a single\n",
        "#sorted list, all without using any sorting algorithms.\n",
        "_lst = []\n",
        "lst1 = [2, 4, 4]\n",
        "lst2 = [1, 3, 5, 7]\n",
        "len1 = len(lst1)\n",
        "len2 = len(lst2)\n",
        "i = j = 0\n",
        "while i < len1 and j < len2:\n",
        "  if lst1[i] < lst2[j]:\n",
        "    _lst.append(lst1[i])\n",
        "    i += 1\n",
        "  else:\n",
        "    _lst.append(lst2[j])\n",
        "    j += 1\n",
        "_lst += lst1[i:]\n",
        "_lst += lst2[j:]\n",
        "print(_lst)"
      ]
    }
  ]
}