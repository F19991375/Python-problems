{
  "nbformat": 4,
  "nbformat_minor": 0,
  "metadata": {
    "colab": {
      "provenance": [],
      "authorship_tag": "ABX9TyNFr+dqdttJLw+1qNXAc/Uz",
      "include_colab_link": true
    },
    "kernelspec": {
      "name": "python3",
      "display_name": "Python 3"
    },
    "language_info": {
      "name": "python"
    }
  },
  "cells": [
    {
      "cell_type": "markdown",
      "metadata": {
        "id": "view-in-github",
        "colab_type": "text"
      },
      "source": [
        "<a href=\"https://colab.research.google.com/github/F19991375/Python-problems/blob/main/problem_7.ipynb\" target=\"_parent\"><img src=\"https://colab.research.google.com/assets/colab-badge.svg\" alt=\"Open In Colab\"/></a>"
      ]
    },
    {
      "cell_type": "code",
      "execution_count": 1,
      "metadata": {
        "id": "bVgImAPOAwb7"
      },
      "outputs": [],
      "source": [
        "#Write a Python program that takes a list of numbers and generates indices that, when used to access the list, display the elements in ascending order.\n",
        "#This project avoids using direct sorting algorithms, focusing instead on creating an efficient solution.\n"
      ]
    },
    {
      "cell_type": "code",
      "source": [
        "#The first way\n",
        "from random import randint as rnd\n",
        "_list = [rnd(1,10) for _ in range(10)]\n",
        "print(_list)\n",
        "def lst_index_sort(_list):\n",
        "  _max = max(_list) + 1\n",
        "  lst = []\n",
        "  for i in range(len(_list)):\n",
        "    _min = _list.index(min(_list))\n",
        "    lst.append(_min)\n",
        "    _list[_min] = _max\n",
        "  return lst\n",
        "lst_index_sort(_list)"
      ],
      "metadata": {
        "colab": {
          "base_uri": "https://localhost:8080/"
        },
        "id": "sTPTNyeIA7P5",
        "outputId": "42ec26dd-9837-4f0d-81af-d6ef591cb861"
      },
      "execution_count": 8,
      "outputs": [
        {
          "output_type": "stream",
          "name": "stdout",
          "text": [
            "[2, 9, 8, 9, 1, 10, 8, 7, 3, 4]\n"
          ]
        },
        {
          "output_type": "execute_result",
          "data": {
            "text/plain": [
              "[4, 0, 8, 9, 7, 2, 6, 1, 3, 5]"
            ]
          },
          "metadata": {},
          "execution_count": 8
        }
      ]
    },
    {
      "cell_type": "code",
      "source": [
        "#The second way\n",
        "from random import randint as rnd\n",
        "_lst = [rnd(1,10) for _ in range(10)]\n",
        "print(_lst)\n",
        "def list_index_sort(_list):\n",
        "  lst = list(enumerate(_list))\n",
        "  print(lst)\n",
        "  n = len(lst)\n",
        "  for i in range(n - 1):\n",
        "    _min = i\n",
        "    for j in range(i + 1, n):\n",
        "      if lst[_min][1] > lst[j][1]:\n",
        "        _min = j\n",
        "    lst[i], lst[_min] = lst[_min], lst[i]\n",
        "  print([lst[i][0] for i in range(n)])\n",
        "\n",
        "list_index_sort(_lst)"
      ],
      "metadata": {
        "colab": {
          "base_uri": "https://localhost:8080/"
        },
        "id": "UxaL77CECMas",
        "outputId": "21f8fe39-9fe6-4e68-c63c-99076c7623cd"
      },
      "execution_count": 10,
      "outputs": [
        {
          "output_type": "stream",
          "name": "stdout",
          "text": [
            "[9, 6, 8, 1, 1, 4, 8, 6, 4, 6]\n",
            "[(0, 9), (1, 6), (2, 8), (3, 1), (4, 1), (5, 4), (6, 8), (7, 6), (8, 4), (9, 6)]\n",
            "[3, 4, 5, 8, 1, 7, 9, 2, 6, 0]\n"
          ]
        }
      ]
    }
  ]
}