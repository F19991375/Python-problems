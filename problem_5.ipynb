{
  "nbformat": 4,
  "nbformat_minor": 0,
  "metadata": {
    "colab": {
      "provenance": [],
      "authorship_tag": "ABX9TyNf/nUl4uM17c1nVORVlwwf",
      "include_colab_link": true
    },
    "kernelspec": {
      "name": "python3",
      "display_name": "Python 3"
    },
    "language_info": {
      "name": "python"
    }
  },
  "cells": [
    {
      "cell_type": "markdown",
      "metadata": {
        "id": "view-in-github",
        "colab_type": "text"
      },
      "source": [
        "<a href=\"https://colab.research.google.com/github/F19991375/Python-problems/blob/main/problem_5.ipynb\" target=\"_parent\"><img src=\"https://colab.research.google.com/assets/colab-badge.svg\" alt=\"Open In Colab\"/></a>"
      ]
    },
    {
      "cell_type": "code",
      "execution_count": 6,
      "metadata": {
        "id": "TfRkTMscqxRG",
        "colab": {
          "base_uri": "https://localhost:8080/"
        },
        "outputId": "2965de9c-41b0-49d4-c47f-3ae09e1fd1d1"
      },
      "outputs": [
        {
          "output_type": "stream",
          "name": "stdout",
          "text": [
            "['DELL', 'ASUS', 'MSI', 'HP']\n"
          ]
        }
      ],
      "source": [
        "#write a Python program that sorts a list of strings based on their length, from the highest to the lowest\n",
        "lst = ['HP', \"DELL\", \"ASUS\", \"MSI\"]\n",
        "length = len(lst)\n",
        "for i in range(length - 1):\n",
        "  _max = i\n",
        "  for j in range(i + 1, length):\n",
        "    if len(lst[_max]) < len(lst[j]):\n",
        "      _max = j\n",
        "  lst[i] , lst[_max] = lst[_max] , lst[i]\n",
        "print(lst)"
      ]
    }
  ]
}